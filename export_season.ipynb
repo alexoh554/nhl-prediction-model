{
 "cells": [
  {
   "cell_type": "code",
   "execution_count": 5,
   "id": "a08a794b-cfa3-4d9c-9dc0-7ac5de12dfd0",
   "metadata": {},
   "outputs": [],
   "source": [
    "import requests\n",
    "import json\n",
    "from datetime import datetime, timedelta\n",
    "\n",
    "api_url = \"https://api-web.nhle.com\"\n",
    "\n",
    "with open('teams.json', 'r') as file:\n",
    "    teams = json.load(file)\n",
    "\n",
    "# Get scores for all games in 2022-2023 \n",
    "start_date = datetime(2022, 10, 7)  \n",
    "end_date = datetime(2023, 4, 15)     \n",
    "\n",
    "schedule = []\n",
    "\n",
    "current_date = start_date\n",
    "while current_date <= end_date:\n",
    "    formatted_date = current_date.strftime(\"%Y-%m-%d\")\n",
    "    \n",
    "    response = requests.get(f\"{api_url}/v1/score/{formatted_date}\")\n",
    "    \n",
    "    if response.status_code == 200:\n",
    "        scores_data = response.json()\n",
    "        schedule.append(scores_data)\n",
    "    else:\n",
    "        print(f\"Failed to fetch scores for {formatted_date}. Status code: {response.status_code}\")\n",
    "    \n",
    "    current_date += timedelta(days=1)"
   ]
  },
  {
   "cell_type": "code",
   "execution_count": 6,
   "id": "c8653e33-f2f7-43fa-bace-b18223669db0",
   "metadata": {},
   "outputs": [
    {
     "name": "stdout",
     "output_type": "stream",
     "text": [
      "{'id': 2022020111, 'season': 20222023, 'gameType': 2, 'gameDate': '2022-10-27', 'venue': {'default': 'TD Garden'}, 'startTimeUTC': '2022-10-27T23:00:00Z', 'easternUTCOffset': '-04:00', 'venueUTCOffset': '-04:00', 'tvBroadcasts': [{'id': 31, 'market': 'H', 'countryCode': 'US', 'network': 'NESN', 'sequenceNumber': 1}, {'id': 287, 'market': 'N', 'countryCode': 'CA', 'network': 'SNE', 'sequenceNumber': 1}, {'id': 288, 'market': 'N', 'countryCode': 'CA', 'network': 'SNO', 'sequenceNumber': 1}, {'id': 290, 'market': 'N', 'countryCode': 'CA', 'network': 'SNP', 'sequenceNumber': 1}, {'id': 351, 'market': 'A', 'countryCode': 'US', 'network': 'BSDET', 'sequenceNumber': 1}], 'gameState': 'OFF', 'gameScheduleState': 'OK', 'awayTeam': {'id': 17, 'name': {'default': 'Red Wings'}, 'abbrev': 'DET', 'score': 1, 'sog': 29, 'logo': 'https://assets.nhle.com/logos/nhl/svg/DET_light.svg'}, 'homeTeam': {'id': 6, 'name': {'default': 'Bruins'}, 'abbrev': 'BOS', 'score': 5, 'sog': 33, 'logo': 'https://assets.nhle.com/logos/nhl/svg/BOS_20082009-20222023_light.svg'}, 'gameCenterLink': '/gamecenter/det-vs-bos/2022/10/27/2022020111', 'threeMinRecap': '/video/recap-bos-5-det-1-336885708', 'clock': {'timeRemaining': '00:00', 'secondsRemaining': 0, 'running': False, 'inIntermission': False}, 'neutralSite': False, 'venueTimezone': 'US/Eastern', 'period': 3, 'periodDescriptor': {'number': 3, 'periodType': 'REG'}, 'gameOutcome': {'lastPeriodType': 'REG'}, 'goals': [{'period': 1, 'periodDescriptor': {'number': 1, 'periodType': 'REG'}, 'timeInPeriod': '13:42', 'playerId': 8475745, 'name': {'default': 'C. Coyle'}, 'mugshot': 'https://assets.nhle.com/mugs/nhl/20222023/BOS/8475745.png', 'teamAbbrev': 'BOS', 'goalsToDate': 2, 'awayScore': 0, 'homeScore': 1, 'strength': 'EV', 'highlightClip': 6335812572112}, {'period': 2, 'periodDescriptor': {'number': 2, 'periodType': 'REG'}, 'timeInPeriod': '11:53', 'playerId': 8473419, 'name': {'default': 'B. Marchand'}, 'mugshot': 'https://assets.nhle.com/mugs/nhl/20222023/BOS/8473419.png', 'teamAbbrev': 'BOS', 'goalsToDate': 1, 'awayScore': 0, 'homeScore': 2, 'strength': 'PP', 'highlightClip': 6335812567112}, {'period': 2, 'periodDescriptor': {'number': 2, 'periodType': 'REG'}, 'timeInPeriod': '18:49', 'playerId': 8477454, 'name': {'default': 'A. Erne'}, 'mugshot': 'https://assets.nhle.com/mugs/nhl/20222023/DET/8477454.png', 'teamAbbrev': 'DET', 'goalsToDate': 2, 'awayScore': 1, 'homeScore': 2, 'strength': 'EV', 'highlightClip': 6335812269112}, {'period': 3, 'periodDescriptor': {'number': 3, 'periodType': 'REG'}, 'timeInPeriod': '02:55', 'playerId': 8473419, 'name': {'default': 'B. Marchand'}, 'mugshot': 'https://assets.nhle.com/mugs/nhl/20222023/BOS/8473419.png', 'teamAbbrev': 'BOS', 'goalsToDate': 2, 'awayScore': 1, 'homeScore': 3, 'strength': 'PP', 'highlightClip': 6335811592112}, {'period': 3, 'periodDescriptor': {'number': 3, 'periodType': 'REG'}, 'timeInPeriod': '03:30', 'playerId': 8475225, 'name': {'default': 'C. Smith'}, 'mugshot': 'https://assets.nhle.com/mugs/nhl/20222023/BOS/8475225.png', 'teamAbbrev': 'BOS', 'goalsToDate': 1, 'awayScore': 1, 'homeScore': 4, 'strength': 'EV', 'highlightClip': 6335810794112}, {'period': 3, 'periodDescriptor': {'number': 3, 'periodType': 'REG'}, 'timeInPeriod': '04:34', 'playerId': 8477956, 'name': {'default': 'D. Pastrnak', 'cs': 'D. Pastrňák', 'sk': 'D. Pastrňák'}, 'mugshot': 'https://assets.nhle.com/mugs/nhl/20222023/BOS/8477956.png', 'teamAbbrev': 'BOS', 'goalsToDate': 6, 'awayScore': 1, 'homeScore': 5, 'strength': 'PP', 'highlightClip': 6335812373112}]}\n"
     ]
    }
   ],
   "source": [
    "print(schedule[20]['games'][0])"
   ]
  },
  {
   "cell_type": "code",
   "execution_count": 7,
   "id": "f227e47b-f82c-4982-8d1e-b1682d39fe8d",
   "metadata": {},
   "outputs": [],
   "source": [
    "# Parse game data\n",
    "total_games = 0\n",
    "scores = []\n",
    "for day in schedule:\n",
    "    total_games += len(day['games'])\n",
    "    for game in day['games']:\n",
    "        awayTeam = game['awayTeam']['abbrev']\n",
    "        awayScore = game['awayTeam']['score']\n",
    "        homeTeam = game['homeTeam']['abbrev']\n",
    "        homeScore = game['homeTeam']['score']\n",
    "        homeWin = homeScore > awayScore\n",
    "\n",
    "        score_data = {\n",
    "            \"awayTeam\": awayTeam,\n",
    "            \"awayScore\": awayScore,\n",
    "            \"homeTeam\": homeTeam,\n",
    "            \"homeScore\": homeScore,\n",
    "            \"homeWin\": homeWin\n",
    "        }\n",
    "        \n",
    "        scores.append(score_data)\n"
   ]
  },
  {
   "cell_type": "code",
   "execution_count": 8,
   "id": "27c45cc9-72f3-4057-b536-a6ae93a11b5e",
   "metadata": {},
   "outputs": [
    {
     "name": "stdout",
     "output_type": "stream",
     "text": [
      "CSV file 'all_scores.csv' has been created.\n"
     ]
    }
   ],
   "source": [
    "import csv \n",
    "\n",
    "fields = ['awayTeam', 'awayScore', 'homeTeam', 'homeScore', 'homeWin']\n",
    "\n",
    "with open('all_scores.csv', 'w', newline='') as csv_file:\n",
    "    writer = csv.DictWriter(csv_file, fieldnames=fields)\n",
    "    \n",
    "    writer.writeheader()\n",
    "    \n",
    "    for score in scores:\n",
    "        writer.writerow(score)\n",
    "\n",
    "print(\"CSV file 'all_scores.csv' has been created.\")\n"
   ]
  },
  {
   "cell_type": "code",
   "execution_count": 41,
   "id": "b1048e4b-cdd0-4bc0-8ad3-2b3d18739972",
   "metadata": {},
   "outputs": [],
   "source": [
    "# Get club stats for each team in 2022-2023\n",
    "import json\n",
    "with open('teams.json', 'r') as file:\n",
    "    teams = json.load(file)\n",
    "\n",
    "# List of player ids for each team\n",
    "team_rosters = {}\n",
    "\n",
    "# Cumulative team stats for each team\n",
    "team_stats = {}\n",
    "for team in teams:\n",
    "    abbr = team['abbreviation']\n",
    "    club_stats = requests.get(f\"{api_url}/v1/club-stats/{abbr}/20222023/2\").json()\n",
    "\n",
    "    team_rosters[abbr] = []\n",
    "    team_stats[abbr] = {\n",
    "        'goals_per_game': 0,\n",
    "        'netPlusMinus': 0,\n",
    "        'totalPIM': 0,\n",
    "        'PPG': 0,\n",
    "        'SHG': 0,\n",
    "        'shots_per_game': 0,\n",
    "        'goals_against_per_game': 0,\n",
    "        'shots_against_per_game': 0\n",
    "    }\n",
    "    for skater in club_stats['skaters']:\n",
    "        id = skater['playerId']\n",
    "        team_rosters[abbr].append(id)\n",
    "\n",
    "        stats = team_stats[abbr]\n",
    "        stats['goals_per_game'] += skater['goals']\n",
    "        stats['netPlusMinus'] += skater['plusMinus']\n",
    "        stats['totalPIM'] += skater['penaltyMinutes']\n",
    "        stats['PPG'] += skater['powerPlayGoals']\n",
    "        stats['SHG'] += skater['shorthandedGoals']\n",
    "        stats['shots_per_game'] += skater['shots']\n",
    "\n",
    "    for goalie in club_stats['goalies']:                \n",
    "        stats = team_stats[abbr]\n",
    "        stats['shots_against_per_game'] += goalie['shotsAgainst']\n",
    "        stats['goals_against_per_game'] += goalie['goalsAgainst']\n",
    "    \n",
    "        \n",
    "    team_stats[abbr]['goals_per_game'] /= 82\n",
    "    team_stats[abbr]['shots_per_game'] /= 82\n",
    "    team_stats[abbr]['goals_against_per_game'] /= 82\n",
    "    team_stats[abbr]['shots_against_per_game'] /= 82"
   ]
  },
  {
   "cell_type": "code",
   "execution_count": 26,
   "id": "3fc79617-0047-46a8-9acf-46bf7c27071b",
   "metadata": {},
   "outputs": [
    {
     "name": "stdout",
     "output_type": "stream",
     "text": [
      "Team rosters have been exported to rosters.json.\n"
     ]
    }
   ],
   "source": [
    "output = 'rosters.json'\n",
    "\n",
    "# Export team_rosters to a JSON file\n",
    "with open(output, 'w') as file:\n",
    "    json.dump(team_rosters, file)\n",
    "\n",
    "print(f\"Team rosters have been exported to {output}.\")"
   ]
  },
  {
   "cell_type": "code",
   "execution_count": 42,
   "id": "338adca8-5182-43f2-bf5d-85d11c4cd5ad",
   "metadata": {},
   "outputs": [
    {
     "name": "stdout",
     "output_type": "stream",
     "text": [
      "Team stats have been exported to team_stats.json.\n"
     ]
    }
   ],
   "source": [
    "output = 'team_stats.json'\n",
    "\n",
    "# Export team_rosters to a JSON file\n",
    "with open(output, 'w') as file:\n",
    "    json.dump(team_stats, file)\n",
    "\n",
    "print(f\"Team stats have been exported to {output}.\")"
   ]
  },
  {
   "cell_type": "code",
   "execution_count": null,
   "id": "fc9c90f8-61cc-4743-bd65-9c335efc115d",
   "metadata": {},
   "outputs": [],
   "source": []
  }
 ],
 "metadata": {
  "kernelspec": {
   "display_name": "Python 3 (ipykernel)",
   "language": "python",
   "name": "python3"
  },
  "language_info": {
   "codemirror_mode": {
    "name": "ipython",
    "version": 3
   },
   "file_extension": ".py",
   "mimetype": "text/x-python",
   "name": "python",
   "nbconvert_exporter": "python",
   "pygments_lexer": "ipython3",
   "version": "3.12.1"
  }
 },
 "nbformat": 4,
 "nbformat_minor": 5
}
