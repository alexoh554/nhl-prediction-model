{
 "cells": [
  {
   "cell_type": "markdown",
   "id": "c45a58e5",
   "metadata": {},
   "source": [
    "# export_season.ipynb\n",
    "Use this file to extract all_scores.csv and team_stats.json for a specific season. \n",
    "This data can be used to train/test the model"
   ]
  },
  {
   "cell_type": "code",
   "execution_count": 8,
   "id": "b91a5ff7",
   "metadata": {},
   "outputs": [],
   "source": [
    "# season = \"20222023\"\n",
    "\n",
    "season = \"20232024\""
   ]
  },
  {
   "cell_type": "markdown",
   "id": "763a2a0e",
   "metadata": {},
   "source": [
    "## Getting Scores from all games from the season\n",
    "Iterate through all of the games in the chosen season using the NHL API and store who won the game in \"scores\"."
   ]
  },
  {
   "cell_type": "code",
   "execution_count": 7,
   "id": "a08a794b-cfa3-4d9c-9dc0-7ac5de12dfd0",
   "metadata": {},
   "outputs": [],
   "source": [
    "import requests\n",
    "import json\n",
    "from datetime import datetime, timedelta\n",
    "\n",
    "api_url = \"https://api-web.nhle.com\"\n",
    "\n",
    "with open('teams.json', 'r') as file:\n",
    "    teams = json.load(file)\n",
    "\n",
    "# Get scores for all games\n",
    "start_date = datetime(2022, 10, 10)  \n",
    "end_date = datetime(2023, 4, 13)  \n",
    "\n",
    "schedule = []\n",
    "\n",
    "current_date = start_date\n",
    "while current_date <= end_date:\n",
    "    formatted_date = current_date.strftime(\"%Y-%m-%d\")\n",
    "    \n",
    "    response = requests.get(f\"{api_url}/v1/score/{formatted_date}\")\n",
    "    \n",
    "    if response.status_code == 200:\n",
    "        scores_data = response.json()\n",
    "        schedule.append(scores_data)\n",
    "    else:\n",
    "        print(f\"Failed to fetch scores for {formatted_date}. Status code: {response.status_code}\")\n",
    "    \n",
    "    current_date += timedelta(days=1)"
   ]
  },
  {
   "cell_type": "code",
   "execution_count": 9,
   "id": "f227e47b-f82c-4982-8d1e-b1682d39fe8d",
   "metadata": {},
   "outputs": [
    {
     "name": "stdout",
     "output_type": "stream",
     "text": [
      "Away team PAC is not in teams.json. Skipping...\n",
      "Away team MET is not in teams.json. Skipping...\n",
      "Away team CEN is not in teams.json. Skipping...\n"
     ]
    },
    {
     "data": {
      "text/plain": [
       "1311"
      ]
     },
     "execution_count": 9,
     "metadata": {},
     "output_type": "execute_result"
    }
   ],
   "source": [
    "# Parse game data\n",
    "total_games = 0\n",
    "scores = []\n",
    "for day in schedule:\n",
    "    total_games += len(day['games'])\n",
    "    for game in day['games']:\n",
    "        awayTeam = game['awayTeam']['abbrev']\n",
    "        awayScore = game['awayTeam']['score']\n",
    "        homeTeam = game['homeTeam']['abbrev']\n",
    "        homeScore = game['homeTeam']['score']\n",
    "        homeWin = homeScore > awayScore\n",
    "\n",
    "        if awayTeam not in [team['abbreviation'] for team in teams]:\n",
    "            print(f\"Away team {awayTeam} is not in teams.json. Skipping...\")\n",
    "            continue\n",
    "        \n",
    "        if homeTeam not in [team['abbreviation'] for team in teams]:\n",
    "            print(f\"Home team {homeTeam} is not in teams.json. Skipping...\")\n",
    "            continue\n",
    "            \n",
    "        score_data = {\n",
    "            \"awayTeam\": awayTeam,\n",
    "            \"awayScore\": awayScore,\n",
    "            \"homeTeam\": homeTeam,\n",
    "            \"homeScore\": homeScore,\n",
    "            \"homeWin\": homeWin\n",
    "        }\n",
    "        \n",
    "        scores.append(score_data)\n",
    "\n",
    "total_games"
   ]
  },
  {
   "cell_type": "markdown",
   "id": "3ca32b9c",
   "metadata": {},
   "source": [
    "### Get club stats from the season by tabulating each player's score\n",
    "NHL API doesn't have team stats, so:\n",
    "1) Find every player's id on every team\n",
    "2) Get each player's individual stats\n",
    "3) Append the stats to team_stats"
   ]
  },
  {
   "cell_type": "code",
   "execution_count": 10,
   "id": "b1048e4b-cdd0-4bc0-8ad3-2b3d18739972",
   "metadata": {},
   "outputs": [],
   "source": [
    "# Get club stats for each team  \n",
    "import json\n",
    "with open('teams.json', 'r') as file:\n",
    "    teams = json.load(file)\n",
    "\n",
    "# List of player ids for each team\n",
    "team_rosters = {}\n",
    "\n",
    "# Cumulative team stats for each team\n",
    "team_stats = {}\n",
    "for team in teams:\n",
    "    abbr = team['abbreviation']\n",
    "    club_stats = requests.get(f\"{api_url}/v1/club-stats/{abbr}/{season}/2\").json()\n",
    "\n",
    "    team_rosters[abbr] = []\n",
    "    team_stats[abbr] = {\n",
    "        'goals_per_game': 0,\n",
    "        'netPlusMinus': 0,\n",
    "        'totalPIM': 0,\n",
    "        'PPG': 0,\n",
    "        'SHG': 0,\n",
    "        'shots_per_game': 0,\n",
    "        'goals_against_per_game': 0,\n",
    "        'shots_against_per_game': 0,\n",
    "        'points': 0,\n",
    "        'regulation_wins': 0\n",
    "    }\n",
    "    for skater in club_stats['skaters']:\n",
    "        id = skater['playerId']\n",
    "        team_rosters[abbr].append(id)\n",
    "\n",
    "        stats = team_stats[abbr]\n",
    "        stats['goals_per_game'] += skater['goals']\n",
    "        stats['netPlusMinus'] += skater['plusMinus']\n",
    "        stats['totalPIM'] += skater['penaltyMinutes']\n",
    "        stats['PPG'] += skater['powerPlayGoals']\n",
    "        stats['SHG'] += skater['shorthandedGoals']\n",
    "        stats['shots_per_game'] += skater['shots']\n",
    "\n",
    "    for goalie in club_stats['goalies']:                \n",
    "        stats = team_stats[abbr]\n",
    "        stats['shots_against_per_game'] += goalie['shotsAgainst']\n",
    "        stats['goals_against_per_game'] += goalie['goalsAgainst']\n",
    "    \n",
    "        \n",
    "    team_stats[abbr]['goals_per_game'] /= 82\n",
    "    team_stats[abbr]['shots_per_game'] /= 82\n",
    "    team_stats[abbr]['goals_against_per_game'] /= 82\n",
    "    team_stats[abbr]['shots_against_per_game'] /= 82"
   ]
  },
  {
   "cell_type": "markdown",
   "id": "15b6227a",
   "metadata": {},
   "source": [
    "### Standings Data\n",
    "This step is optional, but I imported each team's wins in their season for the use of plotting different stats"
   ]
  },
  {
   "cell_type": "code",
   "execution_count": 11,
   "id": "6831c01b-0466-40ab-98e1-1e4aa912a92e",
   "metadata": {},
   "outputs": [],
   "source": [
    "# Import standings information\n",
    "standings = requests.get(f\"https://api-web.nhle.com/v1/standings/{season[4:]}-04-14\").json()\n",
    "for team in standings['standings']:\n",
    "    abbr = team['teamAbbrev']['default']\n",
    "\n",
    "    team_stats[abbr]['regulation_wins'] = team['regulationWins']\n",
    "    team_stats[abbr]['points'] = team['points']"
   ]
  },
  {
   "cell_type": "markdown",
   "id": "e61c14f5",
   "metadata": {},
   "source": [
    "### Export data to folder"
   ]
  },
  {
   "cell_type": "code",
   "execution_count": 12,
   "id": "27c45cc9-72f3-4057-b536-a6ae93a11b5e",
   "metadata": {},
   "outputs": [
    {
     "name": "stdout",
     "output_type": "stream",
     "text": [
      "CSV file 'all_scores.csv' has been created.\n"
     ]
    }
   ],
   "source": [
    "import csv \n",
    "\n",
    "fields = ['awayTeam', 'awayScore', 'homeTeam', 'homeScore', 'homeWin']\n",
    "\n",
    "with open('all_scores.csv', 'w', newline='') as csv_file:\n",
    "    writer = csv.DictWriter(csv_file, fieldnames=fields)\n",
    "    \n",
    "    writer.writeheader()\n",
    "    \n",
    "    for score in scores:\n",
    "        writer.writerow(score)\n",
    "\n",
    "print(\"CSV file 'all_scores.csv' has been created.\")\n"
   ]
  },
  {
   "cell_type": "code",
   "execution_count": 13,
   "id": "3fc79617-0047-46a8-9acf-46bf7c27071b",
   "metadata": {},
   "outputs": [
    {
     "name": "stdout",
     "output_type": "stream",
     "text": [
      "Team rosters have been exported to rosters.json.\n"
     ]
    }
   ],
   "source": [
    "output = 'rosters.json'\n",
    "\n",
    "# Export team_rosters to a JSON file\n",
    "with open(output, 'w') as file:\n",
    "    json.dump(team_rosters, file)\n",
    "\n",
    "print(f\"Team rosters have been exported to {output}.\")"
   ]
  },
  {
   "cell_type": "code",
   "execution_count": 14,
   "id": "338adca8-5182-43f2-bf5d-85d11c4cd5ad",
   "metadata": {},
   "outputs": [
    {
     "name": "stdout",
     "output_type": "stream",
     "text": [
      "Team stats have been exported to team_stats.json.\n"
     ]
    }
   ],
   "source": [
    "output = 'team_stats.json'\n",
    "\n",
    "# Export team_rosters to a JSON file\n",
    "with open(output, 'w') as file:\n",
    "    json.dump(team_stats, file)\n",
    "\n",
    "print(f\"Team stats have been exported to {output}.\")"
   ]
  }
 ],
 "metadata": {
  "kernelspec": {
   "display_name": "Python 3 (ipykernel)",
   "language": "python",
   "name": "python3"
  },
  "language_info": {
   "codemirror_mode": {
    "name": "ipython",
    "version": 3
   },
   "file_extension": ".py",
   "mimetype": "text/x-python",
   "name": "python",
   "nbconvert_exporter": "python",
   "pygments_lexer": "ipython3",
   "version": "3.12.3"
  }
 },
 "nbformat": 4,
 "nbformat_minor": 5
}
